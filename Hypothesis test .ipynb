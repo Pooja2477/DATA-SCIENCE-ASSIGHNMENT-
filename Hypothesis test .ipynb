{
 "cells": [
  {
   "cell_type": "code",
   "execution_count": 1,
   "id": "7d70bb65-520a-4b28-9c54-cc0c4cd9ca98",
   "metadata": {},
   "outputs": [],
   "source": [
    "##HYPOTHESIS TESTING "
   ]
  },
  {
   "cell_type": "code",
   "execution_count": null,
   "id": "4bb6f8a6-2f29-447b-9134-774846cb8718",
   "metadata": {},
   "outputs": [],
   "source": [
    "from scipy import stats\n",
    "import scipy\n",
    "import math\n",
    "import numpy as np\n",
    "from scipy.stats import norm"
   ]
  },
  {
   "cell_type": "code",
   "execution_count": null,
   "id": "c81fe88a-7000-4516-a8ad-5720a981e2e6",
   "metadata": {},
   "outputs": [],
   "source": [
    "##Assignment Tasks:\n",
    "#1. State the Hypotheses statement:\n",
    "#2. Calculate the Test Statistic\n"
   ]
  },
  {
   "cell_type": "code",
   "execution_count": 3,
   "id": "c05552d1-5330-4dc4-94df-3a939aebe10e",
   "metadata": {},
   "outputs": [
    {
     "name": "stdout",
     "output_type": "stream",
     "text": [
      "test_statistic (Z) : -38.0\n"
     ]
    }
   ],
   "source": [
    "population_mean=4000\n",
    "standard_deviation =125\n",
    "n= 25\n",
    "sample_mean=3050\n",
    "confidence_level=0.95\n",
    "alpha=0.05\n",
    "standard_error=standard_deviation/ np.sqrt(n)\n",
    "test_statistic= (sample_mean-population_mean)/standard_error\n",
    "print(\"test_statistic (Z) :\",test_statistic)"
   ]
  },
  {
   "cell_type": "code",
   "execution_count": null,
   "id": "724702be-8b5f-4a26-869d-d03e9eebc354",
   "metadata": {},
   "outputs": [],
   "source": []
  },
  {
   "cell_type": "code",
   "execution_count": 7,
   "id": "453fd5ed-3adc-4dc3-9966-d686a03cfacb",
   "metadata": {},
   "outputs": [
    {
     "name": "stdout",
     "output_type": "stream",
     "text": [
      " critical value (z_critical): 1.6448536269514722\n"
     ]
    }
   ],
   "source": [
    " z_critical=norm.ppf(1-0.05)\n",
    "print(\" critical value (z_critical):\",z_critical)"
   ]
  },
  {
   "cell_type": "code",
   "execution_count": 18,
   "id": "51c8764e-3c88-4dd1-8d3b-72245c58a943",
   "metadata": {},
   "outputs": [
    {
     "name": "stdout",
     "output_type": "stream",
     "text": [
      "fail to H.there is not strong evidence to support the restaurant owners claim that the weekly operating costs are higher than the model suggests\n"
     ]
    }
   ],
   "source": [
    "if z_critical < test_statistic:\n",
    "    print(\"Reject null hypothesis .there is strong evidence to support the restaurant owners claim that the weekly operating costs are higher than the model suggests.\")\n",
    "else:\n",
    "    print(\"fail to H.there is not strong evidence to support the restaurant owners claim that the weekly operating costs are higher than the model suggests\")\n",
    "    "
   ]
  },
  {
   "cell_type": "code",
   "execution_count": null,
   "id": "21979770-2537-4308-a86f-61730c12437f",
   "metadata": {},
   "outputs": [],
   "source": []
  },
  {
   "cell_type": "raw",
   "id": "2eae0054-037d-4008-b118-b0c552a07cb7",
   "metadata": {},
   "source": []
  },
  {
   "cell_type": "code",
   "execution_count": null,
   "id": "e532cac0-fb6b-4e8e-b301-f61fe9fa9316",
   "metadata": {},
   "outputs": [],
   "source": []
  },
  {
   "cell_type": "code",
   "execution_count": null,
   "id": "eb262f6d-0dfe-4d4b-9854-6e1c78d3524c",
   "metadata": {},
   "outputs": [],
   "source": []
  }
 ],
 "metadata": {
  "kernelspec": {
   "display_name": "Python 3 (ipykernel)",
   "language": "python",
   "name": "python3"
  },
  "language_info": {
   "codemirror_mode": {
    "name": "ipython",
    "version": 3
   },
   "file_extension": ".py",
   "mimetype": "text/x-python",
   "name": "python",
   "nbconvert_exporter": "python",
   "pygments_lexer": "ipython3",
   "version": "3.11.7"
  }
 },
 "nbformat": 4,
 "nbformat_minor": 5
}
