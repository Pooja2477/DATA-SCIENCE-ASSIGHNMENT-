{
 "cells": [
  {
   "cell_type": "markdown",
   "id": "9c04549a-eb62-47de-a7ef-3430ead19802",
   "metadata": {},
   "source": [
    "##Estimation And Confidence Intervals\n"
   ]
  },
  {
   "cell_type": "code",
   "execution_count": 158,
   "id": "79a7fa0c-f440-4f15-8013-7c51f9cb485b",
   "metadata": {},
   "outputs": [
    {
     "data": {
      "text/plain": [
       "[1.13,\n",
       " 1.55,\n",
       " 1.43,\n",
       " 0.92,\n",
       " 1.25,\n",
       " 1.36,\n",
       " 1.32,\n",
       " 0.85,\n",
       " 1.07,\n",
       " 1.48,\n",
       " 1.2,\n",
       " 1.33,\n",
       " 1.18,\n",
       " 1.22,\n",
       " 1.29]"
      ]
     },
     "execution_count": 158,
     "metadata": {},
     "output_type": "execute_result"
    }
   ],
   "source": [
    "import numpy as np\n",
    "from scipy import stats\n",
    "import scipy.stats as st\n",
    "import statistics \n",
    "import math\n",
    "data=[1.13, 1.55, 1.43, 0.9"
   ]
  },
  {
   "cell_type": "code",
   "execution_count": null,
   "id": "83ef4215-589a-4dda-8c2a-026f78d26d79",
   "metadata": {},
   "outputs": [],
   "source": [
    "import numpy as np\n",
    "from scipy import stats\n",
    "import scipy.stats as st\n",
    "import statistics \n",
    "import math"
   ]
  },
  {
   "cell_type": "code",
   "execution_count": null,
   "id": "3496196d-04a6-4444-89c0-deae36c7f56e",
   "metadata": {},
   "outputs": [],
   "source": [
    "data=[1.13, 1.55, 1.43, 0.92, 1.25, 1.36, 1.32, 0.85, 1.07, 1.48, 1.20, 1.33, 1.18, 1.22, 1.29]\n",
    "dat"
   ]
  },
  {
   "cell_type": "code",
   "execution_count": 160,
   "id": "0dfaf804-a1aa-40e8-9ade-2e58769b97e7",
   "metadata": {},
   "outputs": [],
   "source": [
    "#Assighnmnet task \n",
    "##Build 99% Confidence Interval Using Sample Standard Deviation"
   ]
  },
  {
   "cell_type": "code",
   "execution_count": 162,
   "id": "58803834-6c6b-416b-9ff4-86b94217a0db",
   "metadata": {},
   "outputs": [
    {
     "data": {
      "text/plain": [
       "1.2386666666666666"
      ]
     },
     "execution_count": 162,
     "metadata": {},
     "output_type": "execute_result"
    }
   ],
   "source": [
    "sample_mean=np.mean(data)\n",
    "sample_mean"
   ]
  },
  {
   "cell_type": "code",
   "execution_count": 164,
   "id": "1d94775e-428c-4deb-af77-1689f19f793e",
   "metadata": {},
   "outputs": [
    {
     "data": {
      "text/plain": [
       "0.19316412956959933"
      ]
     },
     "execution_count": 164,
     "metadata": {},
     "output_type": "execute_result"
    }
   ],
   "source": [
    "sample_standard_deviation=statistics.stdev(data)\n",
    "sample_standard_deviation"
   ]
  },
  {
   "cell_type": "code",
   "execution_count": 166,
   "id": "e4671c0a-6e7d-441c-8933-ac50e085279f",
   "metadata": {},
   "outputs": [
    {
     "data": {
      "text/plain": [
       "15"
      ]
     },
     "execution_count": 166,
     "metadata": {},
     "output_type": "execute_result"
    }
   ],
   "source": [
    "df=len(data)\n",
    "df"
   ]
  },
  {
   "cell_type": "code",
   "execution_count": 168,
   "id": "45c5f5b0-bd94-4076-9232-835a0ff48414",
   "metadata": {},
   "outputs": [],
   "source": [
    "confidence_level=0.99\n",
    "#significantt level\n",
    "alpha_value=0.01\n",
    "sample_size=15"
   ]
  },
  {
   "cell_type": "code",
   "execution_count": 170,
   "id": "52a71912-73f6-4ffd-a278-933c149caaf0",
   "metadata": {},
   "outputs": [
    {
     "data": {
      "text/plain": [
       "2.624494067560231"
      ]
     },
     "execution_count": 170,
     "metadata": {},
     "output_type": "execute_result"
    }
   ],
   "source": [
    "t_value=stats.t.ppf(1-alpha_value,df-1)\n",
    "t_value"
   ]
  },
  {
   "cell_type": "code",
   "execution_count": 172,
   "id": "498caf4e-e0a6-40e9-b82d-df327fa931cc",
   "metadata": {},
   "outputs": [
    {
     "data": {
      "text/plain": [
       "0.1308960216979201"
      ]
     },
     "execution_count": 172,
     "metadata": {},
     "output_type": "execute_result"
    }
   ],
   "source": [
    "margin_of_error=t_value*(sample_standard_deviation/math.sqrt(sample_size))\n",
    "margin_of_error"
   ]
  },
  {
   "cell_type": "code",
   "execution_count": 174,
   "id": "fa8ca0d4-ed8c-4195-a731-df4b3c660aa0",
   "metadata": {},
   "outputs": [
    {
     "name": "stdout",
     "output_type": "stream",
     "text": [
      "1.3695626883645866\n"
     ]
    }
   ],
   "source": [
    "upper_limit=sample_mean+margin_of_error\n",
    "print(upper_limit)"
   ]
  },
  {
   "cell_type": "code",
   "execution_count": 176,
   "id": "1204eb34-89ff-4b7c-a804-8153e74108fd",
   "metadata": {},
   "outputs": [
    {
     "data": {
      "text/plain": [
       "1.1077706449687466"
      ]
     },
     "execution_count": 176,
     "metadata": {},
     "output_type": "execute_result"
    }
   ],
   "source": [
    "lower_limit=sample_mean-margin_of_error\n",
    "lower_limit"
   ]
  },
  {
   "cell_type": "code",
   "execution_count": 178,
   "id": "f1db2b6f-5f7e-418c-a17d-28eed2a4e011",
   "metadata": {},
   "outputs": [
    {
     "name": "stdout",
     "output_type": "stream",
     "text": [
      "confidence interval : (1.1077706449687466,1.3695626883645866)\n"
     ]
    }
   ],
   "source": [
    "print(f\"confidence interval : ({lower_limit},{upper_limit})\")"
   ]
  },
  {
   "cell_type": "code",
   "execution_count": 191,
   "id": "e564e711-4a0c-4719-8f74-4ca942da638a",
   "metadata": {},
   "outputs": [],
   "source": [
    "##Build 99% Confidence Interval Using Known Population Standard Deviation"
   ]
  },
  {
   "cell_type": "code",
   "execution_count": 180,
   "id": "6813fa6b-b23e-4185-af98-b1dac61e112c",
   "metadata": {},
   "outputs": [
    {
     "data": {
      "text/plain": [
       "1.2386666666666666"
      ]
     },
     "execution_count": 180,
     "metadata": {},
     "output_type": "execute_result"
    }
   ],
   "source": [
    "sample_mean=np.mean(data)\n",
    "sample_mean"
   ]
  },
  {
   "cell_type": "code",
   "execution_count": 182,
   "id": "52e15714-7c0e-4a91-a444-c67c2b3737ec",
   "metadata": {},
   "outputs": [
    {
     "data": {
      "text/plain": [
       "0.13323062710953515"
      ]
     },
     "execution_count": 182,
     "metadata": {},
     "output_type": "execute_result"
    }
   ],
   "source": [
    "population_standard_deviation=0.2\n",
    "sample_size=15\n",
    "confidence_level=0.99\n",
    "z_value=2.58\n",
    "margin_of_errors=z_value*(population_standard_deviation/math.sqrt(sample_size))\n",
    "margin_of_errors"
   ]
  },
  {
   "cell_type": "code",
   "execution_count": 184,
   "id": "96cd2d44-ed8c-4ed4-9ec9-0a601bf5ffc0",
   "metadata": {},
   "outputs": [
    {
     "name": "stdout",
     "output_type": "stream",
     "text": [
      "1.3718972937762017\n"
     ]
    }
   ],
   "source": [
    "upper_limits=sample_mean+margin_of_errors\n",
    "print(upper_limits)"
   ]
  },
  {
   "cell_type": "code",
   "execution_count": 186,
   "id": "a5e2bf04-7636-4353-a433-e9718a6b24ff",
   "metadata": {},
   "outputs": [
    {
     "data": {
      "text/plain": [
       "1.1054360395571314"
      ]
     },
     "execution_count": 186,
     "metadata": {},
     "output_type": "execute_result"
    }
   ],
   "source": [
    "lower_limits=sample_mean-margin_of_errors\n",
    "lower_limits"
   ]
  },
  {
   "cell_type": "code",
   "execution_count": 188,
   "id": "1f9c7413-8d4e-4f60-bfd1-c0c4981fee51",
   "metadata": {},
   "outputs": [
    {
     "name": "stdout",
     "output_type": "stream",
     "text": [
      "confidence interval : (1.1054360395571314,1.3718972937762017)\n"
     ]
    }
   ],
   "source": [
    "print(f\"confidence interval : ({lower_limits},{upper_limits})\")"
   ]
  }
 ],
 "metadata": {
  "kernelspec": {
   "display_name": "Python 3 (ipykernel)",
   "language": "python",
   "name": "python3"
  },
  "language_info": {
   "codemirror_mode": {
    "name": "ipython",
    "version": 3
   },
   "file_extension": ".py",
   "mimetype": "text/x-python",
   "name": "python",
   "nbconvert_exporter": "python",
   "pygments_lexer": "ipython3",
   "version": "3.11.7"
  }
 },
 "nbformat": 4,
 "nbformat_minor": 5
}
